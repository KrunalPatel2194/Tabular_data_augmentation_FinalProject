{
 "cells": [
  {
   "cell_type": "markdown",
   "metadata": {},
   "source": [
    "<h2>Generative Adversarial Nets - generate 1-D Gaussian distribution</h2>\n",
    "<p>Original GAN paper: <a href='https://arxiv.org/pdf/1406.2661v1.pdf'>https://arxiv.org/pdf/1406.2661v1.pdf</a></p>\n",
    "<p>This code is borrowed from and modified based on Eric Jang's implementation: <a href='http://blog.evjang.com/2016/06/generative-adversarial-nets-in.html'>http://blog.evjang.com/2016/06/generative-adversarial-nets-in.html</a></p>"
   ]
  },
  {
   "cell_type": "code",
   "execution_count": 1,
   "metadata": {},
   "outputs": [],
   "source": [
    "import tensorflow as tf\n",
    "import numpy as np\n",
    "import matplotlib.pyplot as plt\n",
    "%matplotlib inline\n",
    "import matplotlib\n",
    "matplotlib.style.use('ggplot')\n",
    "import seaborn as sns\n",
    "from scipy.stats import norm"
   ]
  },
  {
   "cell_type": "markdown",
   "metadata": {},
   "source": [
    "## Network config"
   ]
  },
  {
   "cell_type": "code",
   "execution_count": 3,
   "metadata": {},
   "outputs": [],
   "source": [
    "tf.compat.v1.reset_default_graph()\n",
    "np.random.seed(1) \n",
    "tf.compat.v1.set_random_seed(1)\n",
    "\n",
    "# config\n",
    "mu = 2 # mean for true data distribution\n",
    "std = 1 # # std for true data distribution\n",
    "nodes_per_layer = [5, 5, 1] # [2nd 3rd, 4th... layer]\n",
    "training_epochs = 15001\n",
    "batch_size = 200\n",
    "alpha = 0.001 # base learning rate\n",
    "decay_rate = 0.95 # exponential decay rate for learning rate\n",
    "momentum = 0.6 # the fraction factor\n",
    "k = 5 # this is number of times to update discriminator for every time generator is updated in each epoch\n",
    "logs_path = \"/tmp/gan_gaussian\""
   ]
  },
  {
   "cell_type": "markdown",
   "metadata": {},
   "source": [
    "### Draw true data distribution\n",
    "#### We are trying to let our generator to fit the guassian distribution with mean=2 and std=1"
   ]
  },
  {
   "cell_type": "code",
   "execution_count": 5,
   "metadata": {},
   "outputs": [
    {
     "name": "stdout",
     "output_type": "stream",
     "text": [
      "This is what the true distribution looks like:\n"
     ]
    },
    {
     "data": {
      "image/png": "[encoded data removed]",
      "text/plain": [
       "<Figure size 432x288 with 1 Axes>"
      ]
     },
     "metadata": {},
     "output_type": "display_data"
    }
   ],
   "source": [
    "x = np.linspace(-6,6,1000)\n",
    "y = norm.pdf(x, loc = mu, scale = std)\n",
    "plt.plot(x, y)\n",
    "print('This is what the true distribution looks like:')"
   ]
  },
  {
   "cell_type": "markdown",
   "metadata": {},
   "source": [
    "### Function that creates a multi-layer perceptron and outputs a probabiliy value, will be used for both the generator and the discriminator"
   ]
  },
  {
   "cell_type": "code",
   "execution_count": 6,
   "metadata": {},
   "outputs": [],
   "source": [
    "def mlp(input_nodes, nodes_per_layer):\n",
    "    num_nodes_2nd_layer = nodes_per_layer[0]\n",
    "    num_nodes_3rd_layer = nodes_per_layer[1]\n",
    "    num_nodes_output_layer = nodes_per_layer[2]\n",
    "    # parameters connecting 1st and 2nd layers. \n",
    "    w1 = tf.get_variable('w1', shape=[input_nodes.get_shape()[1],num_nodes_2nd_layer], initializer=tf.random_normal_initializer())\n",
    "    b1 = tf.get_variable('b1', shape=[num_nodes_2nd_layer], initializer=tf.constant_initializer(0.0))\n",
    "    \n",
    "    # parameters connecting 2nd and 3rd layers. \n",
    "    w2 = tf.get_variable('w2', shape=[num_nodes_2nd_layer,num_nodes_3rd_layer], initializer=tf.random_normal_initializer())\n",
    "    b2 = tf.get_variable('b2', shape=[num_nodes_3rd_layer], initializer=tf.constant_initializer(0.0))\n",
    "    \n",
    "    # parameters connecting 3rd and output layers. \n",
    "    w3 = tf.get_variable('w3', shape=[num_nodes_3rd_layer,num_nodes_output_layer], initializer=tf.random_normal_initializer())\n",
    "    b3 = tf.get_variable('b3', shape=[num_nodes_output_layer], initializer=tf.constant_initializer(0.0))\n",
    "    \n",
    "    fc1 = tf.nn.tanh(tf.matmul(input_nodes,w1)+b1)\n",
    "    fc2 = tf.nn.tanh(tf.matmul(fc1,w2)+b2)\n",
    "    output_nodes = tf.nn.tanh(tf.matmul(fc2,w3)+b3) # output ranges from [-1, 1]\n",
    "    return output_nodes, [w1,b1,w2,b2,w3,b3]"
   ]
  },
  {
   "cell_type": "markdown",
   "metadata": {},
   "source": [
    "### Function that returns the operation for momentum parameter updates"
   ]
  },
  {
   "cell_type": "code",
   "execution_count": 7,
   "metadata": {},
   "outputs": [],
   "source": [
    "def momentum_optimizer(loss, alpha, training_epochs, decay_rate, momentum, var_list):\n",
    "    epoch = tf.Variable(0)\n",
    "    # lower the learning rate as the training progresses\n",
    "    learning_rate = tf.train.exponential_decay(\n",
    "        learning_rate = alpha, # base learning rate\n",
    "        global_step = epoch,  # current batch into the dataset\n",
    "        decay_steps = training_epochs/4, # decays 4 times throughout training process.\n",
    "        decay_rate = decay_rate,\n",
    "        staircase=True)\n",
    "    optimizer=tf.train.MomentumOptimizer(learning_rate, momentum).minimize(loss, global_step=epoch, var_list=var_list)\n",
    "    return optimizer # return the optimizer operation"
   ]
  },
  {
   "cell_type": "markdown",
   "metadata": {},
   "source": [
    "## Optional - below\n",
    "### Pre-train Decision Surface"
   ]
  },
  {
   "cell_type": "code",
   "execution_count": 8,
   "metadata": {},
   "outputs": [],
   "source": [
    "# plot true data distribution and the pre-trained decision surface for discriminator\n",
    "def plot_d(D,input_node):\n",
    "    f,ax=plt.subplots(1)\n",
    "    # plot true data distribution\n",
    "    x=np.linspace(-6,6,1000)\n",
    "    ax.plot(x, norm.pdf(x,loc=mu,scale=std), label='p_data')\n",
    "    \n",
    "    # decision boundary\n",
    "    r=1000 # resolution (number of points)\n",
    "    M=batch_size\n",
    "    x=np.linspace(-6,6,r)\n",
    "    ds=np.zeros((r,1)) # decision surface\n",
    "    \n",
    "    # process multiple points in parallel in a minibatch\n",
    "    with tf.Session() as sess:\n",
    "        sess.run(tf.initialize_all_variables())\n",
    "        # process multiple x samples using mini-batch\n",
    "        for i in range(r/M):\n",
    "            x_reshaped=np.reshape(x[M*i:M*(i+1)],(M,1))\n",
    "            ds[M*i:M*(i+1)]=sess.run(D,{input_node: x_reshaped})\n",
    "\n",
    "        ax.plot(x, ds, label='decision boundary')\n",
    "        ax.set_ylim(0,1.1)\n",
    "        plt.legend()"
   ]
  },
  {
   "cell_type": "code",
   "execution_count": 11,
   "metadata": {},
   "outputs": [
    {
     "ename": "RuntimeError",
     "evalue": "tf.placeholder() is not compatible with eager execution.",
     "output_type": "error",
     "traceback": [
      "\u001b[1;31m---------------------------------------------------------------------------\u001b[0m",
      "\u001b[1;31mRuntimeError\u001b[0m                              Traceback (most recent call last)",
      "\u001b[1;32m<ipython-input-11-d2f543cc9e47>\u001b[0m in \u001b[0;36m<module>\u001b[1;34m\u001b[0m\n\u001b[0;32m      1\u001b[0m \u001b[1;31m# Set up the discriminator and its training mechnism\u001b[0m\u001b[1;33m\u001b[0m\u001b[1;33m\u001b[0m\u001b[1;33m\u001b[0m\u001b[0m\n\u001b[0;32m      2\u001b[0m \u001b[1;32mwith\u001b[0m \u001b[0mtf\u001b[0m\u001b[1;33m.\u001b[0m\u001b[0mcompat\u001b[0m\u001b[1;33m.\u001b[0m\u001b[0mv1\u001b[0m\u001b[1;33m.\u001b[0m\u001b[0mvariable_scope\u001b[0m\u001b[1;33m(\u001b[0m\u001b[1;34m\"D_pre_training\"\u001b[0m\u001b[1;33m,\u001b[0m \u001b[0mreuse\u001b[0m\u001b[1;33m=\u001b[0m\u001b[1;32mTrue\u001b[0m\u001b[1;33m)\u001b[0m\u001b[1;33m:\u001b[0m\u001b[1;33m\u001b[0m\u001b[1;33m\u001b[0m\u001b[0m\n\u001b[1;32m----> 3\u001b[1;33m     \u001b[0minput_node\u001b[0m\u001b[1;33m=\u001b[0m\u001b[0mtf\u001b[0m\u001b[1;33m.\u001b[0m\u001b[0mcompat\u001b[0m\u001b[1;33m.\u001b[0m\u001b[0mv1\u001b[0m\u001b[1;33m.\u001b[0m\u001b[0mplaceholder\u001b[0m\u001b[1;33m(\u001b[0m\u001b[0mtf\u001b[0m\u001b[1;33m.\u001b[0m\u001b[0mfloat32\u001b[0m\u001b[1;33m,\u001b[0m \u001b[0mshape\u001b[0m\u001b[1;33m=\u001b[0m\u001b[1;33m(\u001b[0m\u001b[0mbatch_size\u001b[0m\u001b[1;33m,\u001b[0m\u001b[1;36m1\u001b[0m\u001b[1;33m)\u001b[0m\u001b[1;33m)\u001b[0m\u001b[1;33m\u001b[0m\u001b[1;33m\u001b[0m\u001b[0m\n\u001b[0m\u001b[0;32m      4\u001b[0m     \u001b[0mtrain_labels\u001b[0m\u001b[1;33m=\u001b[0m\u001b[0mtf\u001b[0m\u001b[1;33m.\u001b[0m\u001b[0mcompat\u001b[0m\u001b[1;33m.\u001b[0m\u001b[0mv1\u001b[0m\u001b[1;33m.\u001b[0m\u001b[0mplaceholder\u001b[0m\u001b[1;33m(\u001b[0m\u001b[0mtf\u001b[0m\u001b[1;33m.\u001b[0m\u001b[0mfloat32\u001b[0m\u001b[1;33m,\u001b[0m\u001b[0mshape\u001b[0m\u001b[1;33m=\u001b[0m\u001b[1;33m(\u001b[0m\u001b[0mbatch_size\u001b[0m\u001b[1;33m,\u001b[0m\u001b[1;36m1\u001b[0m\u001b[1;33m)\u001b[0m\u001b[1;33m)\u001b[0m\u001b[1;33m\u001b[0m\u001b[1;33m\u001b[0m\u001b[0m\n\u001b[0;32m      5\u001b[0m     \u001b[0mD\u001b[0m\u001b[1;33m,\u001b[0m\u001b[0mtheta\u001b[0m\u001b[1;33m=\u001b[0m\u001b[0mmlp\u001b[0m\u001b[1;33m(\u001b[0m\u001b[0minput_node\u001b[0m\u001b[1;33m,\u001b[0m\u001b[0mnodes_per_layer\u001b[0m\u001b[1;33m)\u001b[0m\u001b[1;33m\u001b[0m\u001b[1;33m\u001b[0m\u001b[0m\n",
      "\u001b[1;32m~\\Anaconda3\\envs\\tf-gpu\\lib\\site-packages\\tensorflow_core\\python\\ops\\array_ops.py\u001b[0m in \u001b[0;36mplaceholder\u001b[1;34m(dtype, shape, name)\u001b[0m\n\u001b[0;32m   2625\u001b[0m   \"\"\"\n\u001b[0;32m   2626\u001b[0m   \u001b[1;32mif\u001b[0m \u001b[0mcontext\u001b[0m\u001b[1;33m.\u001b[0m\u001b[0mexecuting_eagerly\u001b[0m\u001b[1;33m(\u001b[0m\u001b[1;33m)\u001b[0m\u001b[1;33m:\u001b[0m\u001b[1;33m\u001b[0m\u001b[1;33m\u001b[0m\u001b[0m\n\u001b[1;32m-> 2627\u001b[1;33m     raise RuntimeError(\"tf.placeholder() is not compatible with \"\n\u001b[0m\u001b[0;32m   2628\u001b[0m                        \"eager execution.\")\n\u001b[0;32m   2629\u001b[0m \u001b[1;33m\u001b[0m\u001b[0m\n",
      "\u001b[1;31mRuntimeError\u001b[0m: tf.placeholder() is not compatible with eager execution."
     ]
    }
   ],
   "source": [
    "# Set up the discriminator and its training mechnism\n",
    "with tf.compat.v1.variable_scope(\"D_pre_training\", reuse=True):\n",
    "    input_node=tf.compat.v1.placeholder(tf.float32, shape=(batch_size,1))\n",
    "    train_labels=tf.compat.v1.placeholder(tf.float32,shape=(batch_size,1))\n",
    "    D,theta=mlp(input_node,nodes_per_layer)\n",
    "    loss=tf.reduce_mean(tf.square(D-train_labels))\n",
    "    #optimizer = tf.train.GradientDescentOptimizer(alpha).minimize(loss)\n",
    "    optimizer = momentum_optimizer(loss, alpha, training_epochs, decay_rate, momentum, None)"
   ]
  },
  {
   "cell_type": "code",
   "execution_count": null,
   "metadata": {},
   "outputs": [],
   "source": [
    "# creat discriminator and plot the pre-trained decision boundary\n",
    "plot_d(D,input_node)\n",
    "plt.title('Initial Decision Boundary')"
   ]
  },
  {
   "cell_type": "code",
   "execution_count": null,
   "metadata": {
    "scrolled": true
   },
   "outputs": [],
   "source": [
    "# train the discriminator\n",
    "with tf.Session() as sess:\n",
    "    sess.run(tf.initialize_all_variables())\n",
    "\n",
    "    num_pre_train_epochs = 1001\n",
    "    d_loss_holder=np.zeros(num_pre_train_epochs)\n",
    "    for epoch in range(num_pre_train_epochs):\n",
    "        #x = (np.random.random(batch_size)-0.5) * 12.0 # instead of sampling only from gaussian, want the domain to be covered as uniformly as possible\n",
    "        x = np.random.normal(mu,std,batch_size) \n",
    "        x = np.reshape(x,(batch_size,1))\n",
    "        \n",
    "        labels=norm.pdf(x,loc=mu,scale=std) \n",
    "        labels = np.reshape(x,(batch_size,1))\n",
    "        d_loss_holder[epoch],_=sess.run([loss,optimizer], {input_node: x, train_labels: labels})\n",
    "\n",
    "        if epoch % 200 == 0:\n",
    "            print 'epoch: ', epoch\n",
    "\n",
    "# plot training loss over epochs\n",
    "plt.plot(d_loss_holder)\n",
    "plt.title('Training Loss')\n",
    "\n",
    "# plot true data distribution and after-trained decision surface\n",
    "plot_d(D,input_node)"
   ]
  },
  {
   "cell_type": "markdown",
   "metadata": {},
   "source": [
    "## Optional - above"
   ]
  },
  {
   "cell_type": "code",
   "execution_count": 7,
   "metadata": {},
   "outputs": [],
   "source": [
    "# plots true data distribution, generated data distribution and decision boundary \n",
    "def plot_fig():\n",
    "    f,ax=plt.subplots(1)\n",
    "    \n",
    "    # plot true data distribution\n",
    "    x=np.linspace(-6,6,1000)\n",
    "    ax.plot(x, norm.pdf(x,loc=mu,scale=std), label='true_distribution')\n",
    "\n",
    "    # plot decision boundary\n",
    "    r=1000 # resolution (number of points)\n",
    "    x=np.linspace(-6,6,r)\n",
    "    ds=np.zeros((r,1)) # placeholder for decision surface\n",
    "    \n",
    "    # process multiple points in parallel in same minibatch\n",
    "    for i in range(r/batch_size):\n",
    "        x_reshaped = np.reshape(x[batch_size*i:batch_size*(i+1)],(batch_size,1))\n",
    "\n",
    "        # get predicted probability by feeding real samples to discriminator\n",
    "        ds[batch_size*i:batch_size*(i+1)]=sess.run(d_output_x,{x_vector: x_reshaped})\n",
    "    ax.plot(x, ds, label='decision boundary')\n",
    "\n",
    "    # plot generated samples\n",
    "    z=np.linspace(-6,6,r) # stratified sampling\n",
    "    gs=np.zeros((r,1)) # placeholder for generated samples\n",
    "\n",
    "    # process multiple points in parallel in same minibatch\n",
    "    for i in range(r/batch_size):\n",
    "        z_reshaped=np.reshape(z[batch_size*i:batch_size*(i+1)],(batch_size,1))\n",
    "\n",
    "        # get generated samples by feeding noise to generator\n",
    "        gs[batch_size*i:batch_size*(i+1)]=sess.run(g_output,{z_vector: z_reshaped})\n",
    "    \n",
    "    histc, edges = np.histogram(gs, bins = 10)\n",
    "    ax.plot(np.linspace(-6,6,10), histc/float(r), label='generated_distribution')\n",
    "\n",
    "    # ylim, legend\n",
    "    ax.set_ylim(0,1.1)\n",
    "    plt.legend()"
   ]
  },
  {
   "cell_type": "markdown",
   "metadata": {},
   "source": [
    "## Building the generative adversarial net"
   ]
  },
  {
   "cell_type": "code",
   "execution_count": 8,
   "metadata": {},
   "outputs": [],
   "source": [
    "# create the generator network that takes a noise input and outputs a generated sample\n",
    "with tf.variable_scope('generator'):\n",
    "    z_vector = tf.placeholder(tf.float32, shape=[batch_size,1]) # placeholder for initial z noise vector\n",
    "    g_output, para_g = mlp(z_vector, nodes_per_layer) # feed z_vector to generator and return the generated sample, which is [-1,1]\n",
    "    g_output = tf.mul(6.0, g_output) # scale up the range to [-6, 6]\n",
    "\n",
    "# reuse=True creates another copy of the discriminator networks that share parameters, since TF doesn't allow feeding \n",
    "# two different inputs to one netowrk\n",
    "# One will be used to evaluate samples from true distribution\n",
    "# Another one will be used to evaluate samples from generator's learned distribution\n",
    "with tf.variable_scope('discriminator') as scope:\n",
    "    x_vector = tf.placeholder(tf.float32, shape=[batch_size,1]) # placeholder for data samples from true distribution\n",
    "    \n",
    "    # feed x_vector to discriminator and output an estimated probability, ranges from [-1,1]\n",
    "    d_output_x, para_d = mlp(x_vector, nodes_per_layer) \n",
    "    d_output_x=tf.maximum(tf.minimum(d_output_x, 0.99), 0.01) # avoid inf and -inf\n",
    "    \n",
    "    # make a copy of discriminator network with the same parameters\n",
    "    scope.reuse_variables()\n",
    "    \n",
    "    # feed the generated sample to discriminator and output an estimated probability, ranges from [-1,1]\n",
    "    d_output_z, para_d = mlp(g_output, nodes_per_layer) \n",
    "    d_output_z=tf.maximum(tf.minimum(d_output_z, 0.99), 0.01) # avoid inf and -inf\n",
    "\n",
    "d_loss = 1 - tf.reduce_mean(tf.log(d_output_x) + tf.log(1-d_output_z)) # loss for discriminator\n",
    "summary_d_loss = tf.scalar_summary(\"d_loss\", d_loss)\n",
    "\n",
    "g_loss = 1 - tf.reduce_mean(tf.log(d_output_z)) # loss for generator\n",
    "summary_g_loss = tf.scalar_summary(\"g_loss\", g_loss)\n",
    "\n",
    "# update parameters to optimize the generator and discriminator, respectively\n",
    "optimizer_op_d = momentum_optimizer(d_loss, alpha, training_epochs, decay_rate, momentum, para_d) # only update para_d\n",
    "optimizer_op_g = momentum_optimizer(g_loss, alpha, training_epochs, decay_rate, momentum, para_g) # only update para_g"
   ]
  },
  {
   "cell_type": "code",
   "execution_count": 9,
   "metadata": {
    "collapsed": true
   },
   "outputs": [],
   "source": [
    "sess=tf.InteractiveSession() # launch graph\n",
    "tf.initialize_all_variables().run() # initialize variables before we can use them, just do this once"
   ]
  },
  {
   "cell_type": "code",
   "execution_count": 10,
   "metadata": {
    "scrolled": true
   },
   "outputs": [
    {
     "data": {
      "text/plain": [
       "<matplotlib.text.Text at 0x113e64050>"
      ]
     },
     "execution_count": 10,
     "metadata": {},
     "output_type": "execute_result"
    },
    {
     "data": {
      "image/png": "[encoded data removed]",
      "text/plain": [
       "<matplotlib.figure.Figure at 0x113e9c550>"
      ]
     },
     "metadata": {},
     "output_type": "display_data"
    }
   ],
   "source": [
    "plot_fig()\n",
    "plt.title('Before Training')"
   ]
  },
  {
   "cell_type": "markdown",
   "metadata": {},
   "source": [
    "## Train the GAN model"
   ]
  },
  {
   "cell_type": "code",
   "execution_count": 11,
   "metadata": {},
   "outputs": [
    {
     "name": "stdout",
     "output_type": "stream",
     "text": [
      "step: 0  D loss: 2.09228  G loss: 3.64472\n",
      "step: 1000  D loss: 2.39461  G loss: 1.69387\n",
      "step: 2000  D loss: 2.38518  G loss: 1.6954\n",
      "step: 3000  D loss: 2.38556  G loss: 1.70015\n",
      "step: 4000  D loss: 2.3788  G loss: 1.70508\n",
      "step: 5000  D loss: 2.38274  G loss: 1.70305\n",
      "step: 6000  D loss: 2.38273  G loss: 1.71206\n",
      "step: 7000  D loss: 2.41867  G loss: 1.68743\n",
      "step: 8000  D loss: 2.37744  G loss: 1.70931\n",
      "step: 9000  D loss: 2.38543  G loss: 1.67956\n",
      "step: 10000  D loss: 2.38672  G loss: 1.69299\n",
      "step: 11000  D loss: 2.38739  G loss: 1.69513\n",
      "step: 12000  D loss: 2.3909  G loss: 1.68547\n",
      "step: 13000  D loss: 2.38594  G loss: 1.69919\n",
      "step: 14000  D loss: 2.38678  G loss: 1.68673\n",
      "step: 15000  D loss: 2.38166  G loss: 1.67915\n"
     ]
    }
   ],
   "source": [
    "# create a log folder and save the graph structure, do this before training\n",
    "g_writer = tf.train.SummaryWriter(logs_path + '/generator', graph=tf.get_default_graph())\n",
    "d_writer = tf.train.SummaryWriter(logs_path + '/discriminator')\n",
    "\n",
    "# perform training cycles\n",
    "for epoch in range(training_epochs):\n",
    "    # mini-batch samples from true distribution\n",
    "    x = np.random.normal(mu,std,batch_size) \n",
    "    x.sort() # sort x samples so that z is aligned \n",
    "    x = np.reshape(x,(batch_size,1))\n",
    "\n",
    "    # mini-batch of noise data, use linspace here as stratified sampling, in order to align with the sorted x\n",
    "    z = np.linspace(-6,6,batch_size) + np.random.random(batch_size) * 0.01 \n",
    "    z = np.reshape(z,(batch_size,1))\n",
    "    \n",
    "    # update discriminator k times for every time generator gets updated\n",
    "    for i in range(k):\n",
    "        summary_d, d_loss_print, _ = sess.run([summary_d_loss, d_loss, optimizer_op_d], feed_dict={x_vector: x, z_vector: z})\n",
    "\n",
    "    # update generator\n",
    "    summary_g, g_loss_print, _ = sess.run([summary_g_loss, g_loss, optimizer_op_g], feed_dict={z_vector: z})\n",
    "\n",
    "    if epoch % 50 == 0:\n",
    "        d_writer.add_summary(summary_d, epoch) # add loss summary to tensorboard\n",
    "        g_writer.add_summary(summary_g, epoch)\n",
    "\n",
    "    if epoch % 1000 == 0:\n",
    "        print 'step:',epoch,\n",
    "        print ' D loss:', d_loss_print,\n",
    "        print ' G loss:', g_loss_print\n",
    "\n",
    "        # Debug utilities..\n",
    "        #print ' D loss_x:',sess.run(x_loss,feed_dict={x_vector: x}),\n",
    "        #print ' D loss_z:',sess.run(z_loss,feed_dict={z_vector: z})\n",
    "        #print ' D output x:',sess.run(d_output_x,feed_dict={x_vector: x})\n",
    "        #print ' D output z:',sess.run(d_output_z,feed_dict={z_vector: z})\n",
    "        #print ' G output:',sess.run(g_output,feed_dict={z_vector: z})\n",
    "        #print ' D loss:', sess.run([d_loss, optimizer_op_d],feed_dict={x_vector: x, z_vector: z})[0],\n",
    "        #print ' G loss:', sess.run([g_loss, optimizer_op_g],feed_dict={z_vector: z})[0]\n",
    "        #print ' D parameters:', sess.run(para_d)\n",
    "        #print ' G parameters:', sess.run(para_g),'\\n'"
   ]
  },
  {
   "cell_type": "code",
   "execution_count": 12,
   "metadata": {
    "scrolled": true
   },
   "outputs": [
    {
     "data": {
      "text/plain": [
       "<matplotlib.text.Text at 0x118512a50>"
      ]
     },
     "execution_count": 12,
     "metadata": {},
     "output_type": "execute_result"
    },
    {
     "data": {
      "image/png": "[encoded data removed]",
      "text/plain": [
       "<matplotlib.figure.Figure at 0x113e76750>"
      ]
     },
     "metadata": {},
     "output_type": "display_data"
    }
   ],
   "source": [
    "plot_fig()\n",
    "plt.title('After Training')"
   ]
  },
  {
   "cell_type": "markdown",
   "metadata": {},
   "source": [
    "### We can see the generated samples (red) are kinda mimicking the true data distribution (blue), and the decision boundary starts confounding about the two"
   ]
  }
 ],
 "metadata": {
  "kernelspec": {
   "display_name": "TensorFlow-GPU-1.13",
   "language": "python",
   "name": "tf-gpu"
  },
  "language_info": {
   "codemirror_mode": {
    "name": "ipython",
    "version": 3
   },
   "file_extension": ".py",
   "mimetype": "text/x-python",
   "name": "python",
   "nbconvert_exporter": "python",
   "pygments_lexer": "ipython3",
   "version": "3.7.6"
  }
 },
 "nbformat": 4,
 "nbformat_minor": 1
}
