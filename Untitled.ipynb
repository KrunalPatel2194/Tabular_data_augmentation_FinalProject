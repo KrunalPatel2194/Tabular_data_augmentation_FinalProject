{
 "cells": [
  {
   "cell_type": "code",
   "execution_count": 5,
   "metadata": {},
   "outputs": [],
   "source": [
    "import numpy as np\n",
    "import tensorflow as tf\n",
    "import matplotlib\n",
    "import matplotlib.pyplot as plt\n",
    "import seaborn as sns\n",
    "from scipy.stats import norm"
   ]
  },
  {
   "cell_type": "code",
   "execution_count": 7,
   "metadata": {},
   "outputs": [],
   "source": [
    "tf.compat.v1.reset_default_graph()\n",
    "np.random.seed(1)\n",
    "tf.compat.v1.set_random_seed(1)\n",
    "\n",
    "mean_true = 2 #setting mean for true data distrib\n",
    "std_true = 1 # setting std for true\n",
    "nodes = [5,5,1] # second,third,fourth layer\n",
    "epochs = 1000\n",
    "batch_size =  200\n",
    "learning_rate = 0.001 # base learning rate\n",
    "decay_rate = 0.85 # exponetial - decay rate for LR\n",
    "momentum = 0.5 #fraction factor\n",
    "k=3 #number of times to update discriminator for every epoch\n",
    "log_path = 'temp/gan_gauss'"
   ]
  },
  {
   "cell_type": "code",
   "execution_count": null,
   "metadata": {},
   "outputs": [],
   "source": []
  }
 ],
 "metadata": {
  "kernelspec": {
   "display_name": "TensorFlow-GPU-1.13",
   "language": "python",
   "name": "tf-gpu"
  },
  "language_info": {
   "codemirror_mode": {
    "name": "ipython",
    "version": 3
   },
   "file_extension": ".py",
   "mimetype": "text/x-python",
   "name": "python",
   "nbconvert_exporter": "python",
   "pygments_lexer": "ipython3",
   "version": "3.7.6"
  }
 },
 "nbformat": 4,
 "nbformat_minor": 2
}
